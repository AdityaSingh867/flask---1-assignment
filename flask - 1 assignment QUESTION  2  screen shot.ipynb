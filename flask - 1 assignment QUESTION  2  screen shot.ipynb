{
 "cells": [
  {
   "cell_type": "markdown",
   "id": "fc9b353c-1ec0-4e39-bf39-abff6ecf2b56",
   "metadata": {},
   "source": [
    "SCREEN SHOT OF ANSWER 2 "
   ]
  },
  {
   "cell_type": "code",
   "execution_count": null,
   "id": "47530402-1ec5-4f19-ae27-4bc0a1c87bd9",
   "metadata": {},
   "outputs": [],
   "source": []
  }
 ],
 "metadata": {
  "kernelspec": {
   "display_name": "Python 3 (ipykernel)",
   "language": "python",
   "name": "python3"
  },
  "language_info": {
   "codemirror_mode": {
    "name": "ipython",
    "version": 3
   },
   "file_extension": ".py",
   "mimetype": "text/x-python",
   "name": "python",
   "nbconvert_exporter": "python",
   "pygments_lexer": "ipython3",
   "version": "3.10.8"
  }
 },
 "nbformat": 4,
 "nbformat_minor": 5
}
