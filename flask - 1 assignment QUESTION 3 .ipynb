{
 "cells": [
  {
   "cell_type": "markdown",
   "id": "ddf4887f-648e-4729-a84e-85b82d874e8e",
   "metadata": {},
   "source": [
    "Q1. What is Flask Framework? What are the advantages of Flask Framework?"
   ]
  },
  {
   "cell_type": "markdown",
   "id": "7893fd3b-cc3f-4ea9-92f6-4a1fd421094b",
   "metadata": {},
   "source": [
    "Flask is a micro web framework written in Python."
   ]
  },
  {
   "cell_type": "markdown",
   "id": "b0b3e897-5246-47a2-a4ab-eded874299d8",
   "metadata": {},
   "source": [
    "ADVANTAGES - In flask we connect different code language with each other like python to html , python to c++ , python to JAVA , python to C# , etc"
   ]
  }
 ],
 "metadata": {
  "kernelspec": {
   "display_name": "Python 3 (ipykernel)",
   "language": "python",
   "name": "python3"
  },
  "language_info": {
   "codemirror_mode": {
    "name": "ipython",
    "version": 3
   },
   "file_extension": ".py",
   "mimetype": "text/x-python",
   "name": "python",
   "nbconvert_exporter": "python",
   "pygments_lexer": "ipython3",
   "version": "3.10.8"
  }
 },
 "nbformat": 4,
 "nbformat_minor": 5
}
